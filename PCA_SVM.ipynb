{
 "cells": [
  {
   "cell_type": "code",
   "execution_count": 10,
   "metadata": {},
   "outputs": [],
   "source": [
    "from sklearn.datasets import fetch_mldata\n",
    "import numpy as np\n",
    "custom_data_home = \"./\"\n",
    "mnist = fetch_mldata('MNIST original', data_home=custom_data_home)"
   ]
  },
  {
   "cell_type": "code",
   "execution_count": 11,
   "metadata": {},
   "outputs": [
    {
     "name": "stdout",
     "output_type": "stream",
     "text": [
      "(70000, 784)\n"
     ]
    }
   ],
   "source": [
    "print mnist.data.shape"
   ]
  },
  {
   "cell_type": "code",
   "execution_count": 12,
   "metadata": {},
   "outputs": [
    {
     "name": "stdout",
     "output_type": "stream",
     "text": [
      "(70000,)\n"
     ]
    }
   ],
   "source": [
    "print mnist.target.shap"
   ]
  },
  {
   "cell_type": "code",
   "execution_count": 13,
   "metadata": {},
   "outputs": [
    {
     "data": {
      "text/plain": [
       "array([ 0.,  1.,  2.,  3.,  4.,  5.,  6.,  7.,  8.,  9.])"
      ]
     },
     "execution_count": 13,
     "metadata": {},
     "output_type": "execute_result"
    }
   ],
   "source": [
    "np.unique(mnist.target)"
   ]
  },
  {
   "cell_type": "code",
   "execution_count": 39,
   "metadata": {},
   "outputs": [],
   "source": [
    "from sklearn.decomposition import PCA\n",
    "X0 = mnist.data[0:1000,:]\n",
    "X1 = mnist.data[7000:8000,:]\n",
    "X2 = mnist.data[14000:15000,:]\n",
    "\n",
    "#Y = mnist.target[0:1000]\n",
    "pca = PCA(n_components=196)\n",
    "X = np.concatenate((X0,X1,X2),axis=0)\n",
    "pca.fit(X)\n",
    "x_transformed = pca.transform(X)"
   ]
  },
  {
   "cell_type": "code",
   "execution_count": 49,
   "metadata": {},
   "outputs": [
    {
     "data": {
      "image/png": "[encoded data removed]",
      "text/plain": [
       "<matplotlib.figure.Figure at 0x7f0b73b944d0>"
      ]
     },
     "metadata": {},
     "output_type": "display_data"
    },
    {
     "data": {
      "image/png": "[encoded data removed]",
      "text/plain": [
       "<matplotlib.figure.Figure at 0x7f0b73bf6190>"
      ]
     },
     "metadata": {},
     "output_type": "display_data"
    }
   ],
   "source": [
    "import matplotlib.pyplot as plt\n",
    "img0 = X[0,:].reshape([28,28])\n",
    "img0_bis = x_transformed[0,:].reshape([14,14])\n",
    "plt.figure(1)\n",
    "plt.imshow(img0, cmap ='gray');\n",
    "plt.figure(2)\n",
    "plt.imshow(img0_bis, cmap ='gray');\n",
    "plt.show()"
   ]
  },
  {
   "cell_type": "code",
   "execution_count": 51,
   "metadata": {},
   "outputs": [
    {
     "name": "stdout",
     "output_type": "stream",
     "text": [
      "[ 48271.66568149  30287.50227979  26517.22998037  24333.86711183\n",
      "  21088.2875698   20212.93903291  17552.22122459  16143.02061923\n",
      "  15696.32007682  14619.42790921  13764.94369378  12819.06697651\n",
      "  12734.8017651   11825.56707532  11501.63499252  11223.33209228\n",
      "  10624.39366188  10176.79478109   9995.17025925   9686.99860316\n",
      "   9496.69065649   9016.62770127   8971.45766239   8569.36700987\n",
      "   8245.10581523   8173.52119361   8092.83051914   7834.81128679\n",
      "   7791.73168287   7435.55261666   7402.4252974    7235.10629988\n",
      "   6916.8855495    6865.09542349   6585.60653823   6511.97459818\n",
      "   6366.94769813   6221.56046778   6044.01763886   6010.17801395\n",
      "   5886.86951762   5858.26476337   5781.05275045   5703.05406718\n",
      "   5608.38650135   5503.99402443   5379.92633547   5301.86952067\n",
      "   5273.82926869   5153.75674376   4993.12854235   4965.89419898\n",
      "   4837.05666768   4781.68610566   4740.01862096   4651.18253783\n",
      "   4563.47827277   4495.34084754   4448.4604465    4402.24956711\n",
      "   4354.1020641    4276.10579124   4262.67952519   4154.25941792\n",
      "   4068.12753057   4047.4756311    3945.37771188   3937.02792201\n",
      "   3892.41506958   3859.42761759   3806.92561577   3744.8044406\n",
      "   3705.42695834   3649.80171216   3646.74089012   3608.37725264\n",
      "   3582.31339141   3574.92904682   3479.72018347   3418.88770447\n",
      "   3364.26181019   3349.33758713   3321.55749066   3285.59923855\n",
      "   3238.05419755   3209.47303512   3182.35415734   3151.36344734\n",
      "   3119.5223553    3097.82270954   3071.60579742   3059.2030596\n",
      "   3019.08419314   2992.96765541   2970.28402661   2915.40276289\n",
      "   2904.23732478   2873.34376532   2850.31089578   2807.28839185\n",
      "   2771.78509023   2763.77847222   2744.85571194   2712.84055793\n",
      "   2706.95297573   2661.39830626   2653.47118372   2636.63732406\n",
      "   2607.79033527   2595.74317697   2567.82021987   2555.98113893\n",
      "   2509.77531501   2494.49890302   2472.26854638   2457.11823235\n",
      "   2445.58847934   2440.47909797   2426.27493337   2386.45786703\n",
      "   2376.04535247   2356.01815166   2344.61058889   2326.47901009\n",
      "   2310.37822409   2293.29866794   2287.07760977   2283.61130373\n",
      "   2272.69587356   2250.4428947    2228.08841419   2223.24006888\n",
      "   2208.1362207    2193.65452444   2181.7061685    2172.28938652\n",
      "   2158.02752512   2146.98686409   2123.12162972   2096.76277484\n",
      "   2091.4082549    2078.07896797   2064.09434766   2059.76142177\n",
      "   2044.64273266   2038.39471656   2018.5694355    2014.85554837\n",
      "   1989.50912533   1976.66955351   1971.28997698   1959.51634983\n",
      "   1948.93492352   1942.75777315   1940.1417804    1918.70491044\n",
      "   1912.83546322   1898.72352647   1881.12698911   1872.68344153\n",
      "   1866.85919215   1851.22908778   1848.41420451   1831.1583119\n",
      "   1823.81025701   1819.88051842   1808.47179455   1793.30864035\n",
      "   1773.9504328    1770.11864637   1760.90891399   1753.90496998\n",
      "   1751.38636954   1739.25259582   1716.93864616   1710.59098842\n",
      "   1704.993967     1699.22756845   1693.15074758   1681.55551945\n",
      "   1668.92783857   1661.43676225   1653.0805224    1644.93575121\n",
      "   1623.91194807   1614.45610727   1603.36047911   1594.3378121\n",
      "   1582.78706829   1579.91958083   1555.04319893   1539.40936867\n",
      "   1536.90458986   1530.94936876   1509.27706004   1498.61106345]\n"
     ]
    }
   ],
   "source": [
    "print(pca.singular_values_) "
   ]
  },
  {
   "cell_type": "code",
   "execution_count": null,
   "metadata": {},
   "outputs": [],
   "source": [
    "import matplotlib.pyplot as plt\n",
    "from mpl_toolkits.mplot3d import Axes3D\n",
    "#Y = mnist.target[0:1000]\n",
    "pca = PCA(n_components=3)\n",
    "X = np.concatenate((X0,X1,X2),axis=0)\n",
    "pca.fit(X)\n",
    "x_transformed = pca.transform(X)\n",
    "\n",
    "#plt.plot(x_transformed[0:1000,0],x_transformed[0:1000,1],'r+',x_transformed[1000:2000,0],x_transformed[1000:2000,1],'b+',\n",
    "#         x_transformed[2000:3000,0],x_transformed[2000:3000,1],'g+')\n",
    "#plt.show()\n",
    "#         x_transformed[2000:3000,0],x_transformed[2000:3000,1],'g+')\n",
    "fig = plt.figure(1)\n",
    "ax = fig.add_subplot(111, projection='3d')\n",
    "ax.scatter(x_transformed[0:1000,0],x_transformed[0:1000,1],x_transformed[0:1000,2],'r+')\n",
    "ax.scatter(x_transformed[1000:2000,0],x_transformed[1000:2000,1],x_transformed[1000:2000,2],'g+')\n",
    "ax.scatter(x_transformed[2000:3000,0],x_transformed[2000:3000,1],x_transformed[2000:3000,2],'v+')\n",
    "# rotate the axes and update\n",
    "for angle in range(0, 360):\n",
    "    ax.view_init(30, angle)\n",
    "    plt.show()\n",
    "    plt.pause(10)\n"
   ]
  },
  {
   "cell_type": "code",
   "execution_count": null,
   "metadata": {},
   "outputs": [],
   "source": [
    "from sklearn.preprocessing import StandardScaler\n",
    "from sklearn.model_selection import train_test_split\n",
    "\n",
    "# split data into train set and test set\n",
    "x_train, x_test, y_train, y_test = train_test_split(mnist.data, mnist.target, test_size=0.3, random_state=42)\n",
    "print x_train.shape\n",
    "\n",
    "scaler = StandardScaler()\n",
    "scaler.fit(x_train)\n",
    "X_train = scaler.transform(x_train)\n",
    "X_test = scaler.transform(x_test)"
   ]
  },
  {
   "cell_type": "code",
   "execution_count": 65,
   "metadata": {},
   "outputs": [
    {
     "data": {
      "text/plain": [
       "LinearSVC(C=1.0, class_weight=None, dual=True, fit_intercept=True,\n",
       "     intercept_scaling=1, loss='squared_hinge', max_iter=50,\n",
       "     multi_class='ovr', penalty='l2', random_state=None, tol=0.0001,\n",
       "     verbose=0)"
      ]
     },
     "execution_count": 65,
     "metadata": {},
     "output_type": "execute_result"
    }
   ],
   "source": [
    "from sklearn.svm import SVC, LinearSVC\n",
    "svc = LinearSVC(max_iter=50)\n",
    "svc.fit(X_train, y_train)"
   ]
  },
  {
   "cell_type": "code",
   "execution_count": 66,
   "metadata": {},
   "outputs": [
    {
     "name": "stdout",
     "output_type": "stream",
     "text": [
      "0.764\n"
     ]
    }
   ],
   "source": [
    "print svc.score(x_test, y_test)"
   ]
  },
  {
   "cell_type": "code",
   "execution_count": 73,
   "metadata": {},
   "outputs": [
    {
     "data": {
      "text/plain": [
       "LinearSVC(C=1.0, class_weight=None, dual=True, fit_intercept=True,\n",
       "     intercept_scaling=1, loss='squared_hinge', max_iter=50,\n",
       "     multi_class='ovr', penalty='l2', random_state=None, tol=0.0001,\n",
       "     verbose=0)"
      ]
     },
     "execution_count": 73,
     "metadata": {},
     "output_type": "execute_result"
    }
   ],
   "source": [
    "pca = PCA(n_components=250)\n",
    "pca.fit(x_train)\n",
    "x_train_transformed = pca.transform(x_train)\n",
    "x_test_transformed = pca.transform(x_test)\n",
    "\n",
    "scaler_bis = StandardScaler()\n",
    "scaler_bis.fit(x_train_transformed)\n",
    "X_train_transformed = scaler_bis.transform(x_train_transformed)\n",
    "X_test_transformed = scaler_bis.transform(x_test_transformed)\n",
    "svc_bis = LinearSVC(max_iter=50)\n",
    "svc_bis.fit(X_train_transformed, y_train)"
   ]
  },
  {
   "cell_type": "code",
   "execution_count": 74,
   "metadata": {},
   "outputs": [
    {
     "name": "stdout",
     "output_type": "stream",
     "text": [
      "0.872333333333\n"
     ]
    }
   ],
   "source": [
    "print svc_bis.score(X_test_transformed, y_test)"
   ]
  },
  {
   "cell_type": "code",
   "execution_count": null,
   "metadata": {
    "collapsed": true
   },
   "outputs": [],
   "source": []
  }
 ],
 "metadata": {
  "kernelspec": {
   "display_name": "Python 2",
   "language": "python",
   "name": "python2"
  },
  "language_info": {
   "codemirror_mode": {
    "name": "ipython",
    "version": 2
   },
   "file_extension": ".py",
   "mimetype": "text/x-python",
   "name": "python",
   "nbconvert_exporter": "python",
   "pygments_lexer": "ipython2",
   "version": "2.7.13"
  }
 },
 "nbformat": 4,
 "nbformat_minor": 2
}
